{
 "cells": [
  {
   "cell_type": "code",
   "execution_count": null,
   "metadata": {},
   "outputs": [],
   "source": [
    "E-step\n",
    "               # num =  [self.priors[k]*norm.pdf(x, self.gaussian[k]['mean'], self.gaussian[k]['var']) \n",
    "                #      for k in range(self.num_classes)]\n",
    "                \n",
    "        \n",
    "                # test = mvn.pdf(x, self.gaussian[0]['mean'], self.gaussian[0]['var']+1e-6*np.identity(len(X_train[0])), allow_singular=True)\n",
    "                # num = np.asarray(num)\n",
    "                # num = np.prod(num, axis=1) \n",
    "                \n",
    "                # den = np.sum(num)\n",
    "                \n",
    "                # Test with the explicit computations for Gaussian\n",
    "                #\n",
    "                # num = np.zeros(self.num_classes)\n",
    "                # for k in range(self.num_classes):\n",
    "                 #   var_vec = self.gaussian[k]['var']\n",
    "                  #  mean_vec = self.gaussian[k]['mean']\n",
    "                   # #num[k] = self.priors[k]\n",
    "                    #for i,var_j in enumerate(var_vec):\n",
    "                     #   num *= np.sqrt(1/(2*np.pi*var_j**2))*np.exp(-(x[i]-mean_vec[i])**2/(2*var_j**2))\n",
    "                #den = np.sum(num)\n",
    "                # return num,den\n",
    "               # r[index,:] = num/den\n",
    "               "
   ]
  },
  {
   "cell_type": "code",
   "execution_count": null,
   "metadata": {},
   "outputs": [],
   "source": [
    "M-step \n",
    "\n",
    "                # for col in range(len(X_train[0])):\n",
    "                   # for index, image in enumerate(X_train):\n",
    "                # x_i*x_i^T outer product, x_i^T*x_i inner product\n",
    "            \n",
    "            #mean[col] = np.sum(r[:,c]*X_train[:,col])/sum(r[:,c])\n",
    "                    #var[col] = np.sum(r[:,c]*X_train[:,col]*X_train[:,col].T)/sum(r[:,c])-mean[col]*mean[col].T"
   ]
  }
 ],
 "metadata": {
  "kernelspec": {
   "display_name": "Python 3",
   "language": "python",
   "name": "python3"
  },
  "language_info": {
   "codemirror_mode": {
    "name": "ipython",
    "version": 3
   },
   "file_extension": ".py",
   "mimetype": "text/x-python",
   "name": "python",
   "nbconvert_exporter": "python",
   "pygments_lexer": "ipython3",
   "version": "3.7.4"
  }
 },
 "nbformat": 4,
 "nbformat_minor": 4
}
